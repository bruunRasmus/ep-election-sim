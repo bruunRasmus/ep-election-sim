{
 "cells": [
  {
   "cell_type": "code",
   "execution_count": 56,
   "metadata": {},
   "outputs": [],
   "source": [
    "import numpy as np\n",
    "import matplotlib.pyplot as plt"
   ]
  },
  {
   "cell_type": "code",
   "execution_count": 171,
   "metadata": {},
   "outputs": [],
   "source": [
    "parties = np.array(['A','B','C','F','I','M','O','V','Æ','Ø','Å'])\n",
    "num_parties = len(parties)\n",
    "valgforbund = [\n",
    "               [[0,10,3],[1,5,7],[2,4],[6],[8],[9]],\n",
    "               [[i] for i in range(num_parties)]\n",
    "              ]\n",
    "\n",
    "SIM = True\n",
    "poll = ['epinion','altinget','actual'][1] #change index accordingly\n",
    "\n",
    "N = 10_000 if SIM else 1\n",
    "M = 15\n",
    "\n",
    "\n",
    "#Actual results\n",
    "pollSize = 2_500_000\n",
    "mu = 1/100*np.array([15.6,7.1,8.8,17.4,7.0,6.0,6.4,14.7,7.4,7.0,2.7])\n",
    "\n",
    "#Epinion poll 6/6\n",
    "if poll == 'epinion':\n",
    "    pollSize = 2085\n",
    "    mu = 1/100*np.array([17.7,4.9,8.3,16.6,8.5,6.0,6.4,10.8,8.9,7.8,4.1])\n",
    "\n",
    "#Altinget vægtet 9/6\n",
    "if poll == 'altinget':\n",
    "    pollSize = 5000\n",
    "    mu = 1/100*np.array([18.9,5.2,7.4,15.8,9.9,5.5,7.1,11.6,9.1,6.9,2.6])\n",
    "\n",
    "sigma = np.diag(np.sqrt(mu*(1-mu)/pollSize)) if SIM else np.diag(np.zeros(len(parties))) "
   ]
  },
  {
   "cell_type": "code",
   "execution_count": 172,
   "metadata": {},
   "outputs": [],
   "source": [
    "#Generate votes, assuming independent normal distrubutions\n",
    "votes         = np.clip(np.random.multivariate_normal(mu,sigma,N),0,1)\n",
    "norm_votes    = votes/np.expand_dims(np.linalg.norm(votes,1,axis = 1),1)"
   ]
  },
  {
   "cell_type": "code",
   "execution_count": 173,
   "metadata": {},
   "outputs": [],
   "source": [
    "def valgforbund_votes(valgforbund):\n",
    "\n",
    "    #Collect total votes for each valgforbund\n",
    "    vf_coll_votes = np.array([norm_votes[:,f].sum(axis=1) for i, f in enumerate(valgforbund)]).T\n",
    "\n",
    "    #Percentage of votes for each party in every valgforbund\n",
    "    vf_ind_votes  = [norm_votes[:,f] for f in valgforbund]\n",
    "    vf_ind_votes  = [viv/np.expand_dims(np.linalg.norm(viv,1,axis = 1),1) for viv in vf_ind_votes]\n",
    "    \n",
    "    return vf_coll_votes,vf_ind_votes"
   ]
  },
  {
   "cell_type": "code",
   "execution_count": 174,
   "metadata": {},
   "outputs": [],
   "source": [
    "#Vectorized function for mandate count\n",
    "def dhondt(V,M = M):\n",
    "    mandates = np.zeros_like(V,dtype = np.int32)\n",
    "    row_idx = np.arange(V.shape[0])\n",
    "    for i in range(M):\n",
    "        winner = np.argmax(V/(mandates+1),axis = 1) #recomputing all, but only N changes\n",
    "        mandates[row_idx,winner]+=1\n",
    "    return mandates\n",
    "\n",
    "#Non-vectorized function for mandate count, because different M values\n",
    "#Definitly not neccesary\n",
    "def dhondt_ind(V, M=M):\n",
    "    mandates = np.zeros_like(V,dtype = np.int32)\n",
    "    for i in range(M):\n",
    "        winner = np.argmax(V/(mandates+1)) \n",
    "        mandates[winner]+=1\n",
    "    return mandates"
   ]
  },
  {
   "cell_type": "code",
   "execution_count": 175,
   "metadata": {},
   "outputs": [],
   "source": [
    "def flatten(xss):\n",
    "    return [x for xs in xss for x in xs]\n",
    "\n",
    "\n",
    "def compute_vf_mandates(valgforbund):\n",
    "    #compute valgforbund votes\n",
    "    vf_coll_votes,vf_ind_votes = valgforbund_votes(valgforbund)\n",
    "\n",
    "    #Compute valgforbund mandates\n",
    "    m_forbund = dhondt(vf_coll_votes)\n",
    "\n",
    "    #Compute individual party mandates\n",
    "    finalMan = np.array(\n",
    "                [flatten([dhondt_ind(vf_ind_votes[j][i],m) \n",
    "                for j,m in enumerate(mDist) ]) \n",
    "                for i,mDist in enumerate(m_forbund)])\n",
    "    return finalMan\n"
   ]
  },
  {
   "cell_type": "code",
   "execution_count": 178,
   "metadata": {},
   "outputs": [],
   "source": [
    "#Plot simulation statistics\n",
    "def plot(mandates,valgforbund):\n",
    "    p = [parties[i] for i in flatten(valgforbund)]\n",
    "    mean= [np.mean(mandates,axis = 0)[p.index(n)] for n in parties]\n",
    "    std = [np.std(mandates,axis = 0)[p.index(n)] for n in parties]\n",
    "    color = ['red','purple','yellowgreen','pink','turquoise','lavender','khaki','grey','cornflowerblue','orange','green']\n",
    "    if SIM:\n",
    "        plt.errorbar(parties, mean, std, elinewidth = 5,linestyle='None', marker='.', ecolor = color,color = 'black')\n",
    "        plt.title(f'Gennensnit +- std over {N} simuleringer\\n valgforbund = {[list(parties[f]) for f in valgforbund]}')\n",
    "    else:\n",
    "        plt.bar(parties,mean,color = color)\n",
    "        plt.title(f'Mandatfordeling\\n valgforbund = {[list(parties[f]) for f in valgforbund]}')\n",
    "    plt.xlabel('Parti')\n",
    "    plt.ylabel('Antal mandater')\n",
    "    \n",
    "    plt.show()\n"
   ]
  },
  {
   "cell_type": "code",
   "execution_count": 180,
   "metadata": {},
   "outputs": [
    {
     "data": {
      "image/png": "[encoded data removed]",
      "text/plain": [
       "<Figure size 432x288 with 1 Axes>"
      ]
     },
     "metadata": {
      "needs_background": "light"
     },
     "output_type": "display_data"
    },
    {
     "data": {
      "image/png": "[encoded data removed]",
      "text/plain": [
       "<Figure size 432x288 with 1 Axes>"
      ]
     },
     "metadata": {
      "needs_background": "light"
     },
     "output_type": "display_data"
    }
   ],
   "source": [
    "for vf in valgforbund:\n",
    "    np.seterr(invalid='ignore')\n",
    "    vf_mand = compute_vf_mandates(vf)\n",
    "    plot(vf_mand,vf)"
   ]
  },
  {
   "cell_type": "code",
   "execution_count": null,
   "metadata": {},
   "outputs": [],
   "source": []
  }
 ],
 "metadata": {
  "kernelspec": {
   "display_name": "Python 3",
   "language": "python",
   "name": "python3"
  },
  "language_info": {
   "codemirror_mode": {
    "name": "ipython",
    "version": 3
   },
   "file_extension": ".py",
   "mimetype": "text/x-python",
   "name": "python",
   "nbconvert_exporter": "python",
   "pygments_lexer": "ipython3",
   "version": "3.7.3"
  }
 },
 "nbformat": 4,
 "nbformat_minor": 4
}
