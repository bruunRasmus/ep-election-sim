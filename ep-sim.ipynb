{
 "cells": [
  {
   "cell_type": "code",
   "execution_count": 196,
   "metadata": {},
   "outputs": [],
   "source": [
    "import numpy as np\n",
    "import matplotlib.pyplot as plt"
   ]
  },
  {
   "cell_type": "code",
   "execution_count": 231,
   "metadata": {},
   "outputs": [],
   "source": [
    "parties = ['A','B','C','F','I','M','O','V','Æ','Ø','Å']\n",
    "valgforbund = [[0,10,3],[1,5,7],[2,4],[6],[8],[9]]\n",
    "\n",
    "N = 10_000\n",
    "M = 15\n",
    "\n",
    "#Epinion poll 6/6\n",
    "pollSize = 2085\n",
    "mu = 1/100*np.array([17.7,4.9,8.3,16.6,8.5,6.0,6.4,10.8,8.9,7.8,4.1])\n",
    "sigma = np.diag(np.sqrt(mu*(1-mu)/pollSize))**2"
   ]
  },
  {
   "cell_type": "code",
   "execution_count": 224,
   "metadata": {},
   "outputs": [],
   "source": [
    "#Generate votes, assuming independent normal distrubutions\n",
    "votes         = np.clip(np.random.multivariate_normal(mu,sigma,N),0,1)\n",
    "norm_votes    = votes/np.expand_dims(np.linalg.norm(votes,1,axis = 1),1)\n",
    "\n",
    "#Collect total votes for each valgforbund\n",
    "vf_coll_votes = np.array([norm_votes[:,f].sum(axis=1) for i, f in enumerate(valgforbund)]).T\n",
    "\n",
    "#Percentage of votes for each party in every valgforbund\n",
    "vf_ind_votes  = [norm_votes[:,f] for f in valgforbund]\n",
    "vf_ind_votes  = [viv/np.expand_dims(np.linalg.norm(viv,1,axis = 1),1) for viv in vf_ind_votes]"
   ]
  },
  {
   "cell_type": "code",
   "execution_count": 225,
   "metadata": {},
   "outputs": [],
   "source": [
    "#Vectorized function for mandate count\n",
    "def dhondt(V,M = M):\n",
    "    mandates = np.zeros_like(V,dtype = np.int32)\n",
    "    row_idx = np.arange(V.shape[0])\n",
    "    for i in range(M):\n",
    "        winner = np.argmax(V,axis = 1)\n",
    "        mandates[row_idx,winner]+=1\n",
    "        V[row_idx,winner]-=1/M\n",
    "    return mandates\n",
    "\n",
    "#Non-vectorized function for mandate count, because different M values\n",
    "#Definitly not neccesary\n",
    "def dhondt_ind(V, M=M):\n",
    "    mandates = np.zeros_like(V,dtype = np.int32)\n",
    "    for i in range(M):\n",
    "        winner = np.argmax(V)\n",
    "        mandates[winner]+=1\n",
    "        V[winner]-=1/M\n",
    "    return mandates"
   ]
  },
  {
   "cell_type": "code",
   "execution_count": 226,
   "metadata": {},
   "outputs": [],
   "source": [
    "def flatten(xss):\n",
    "    return [x for xs in xss for x in xs]\n",
    "\n",
    "#Compute valgforbund mandates\n",
    "m_forbund = dhondt(vf_coll_votes)\n",
    "\n",
    "#Compute individual party mandates\n",
    "finalMan = np.array(\n",
    "            [flatten([dhondt_ind(vf_ind_votes[j][i],m) \n",
    "            for j,m in enumerate(mDist) ]) \n",
    "            for i,mDist in enumerate(m_forbund)])"
   ]
  },
  {
   "cell_type": "code",
   "execution_count": 233,
   "metadata": {},
   "outputs": [
    {
     "data": {
      "image/png": "[encoded data removed]",
      "text/plain": [
       "<Figure size 432x288 with 1 Axes>"
      ]
     },
     "metadata": {
      "needs_background": "light"
     },
     "output_type": "display_data"
    }
   ],
   "source": [
    "#Plot simulation statistics\n",
    "\n",
    "mean= np.mean(finalMan,axis = 0)\n",
    "std = np.std(finalMan,axis = 0)\n",
    "p = [parties[i] for i in flatten(valgforbund)]\n",
    "plt.errorbar(p, mean, std, linestyle='None', marker='.')\n",
    "plt.xlabel('Parti')\n",
    "plt.ylabel('Antal mandater')\n",
    "plt.title(f'Gennensnit +- std over {N} simuleringer')\n",
    "plt.show()"
   ]
  },
  {
   "cell_type": "code",
   "execution_count": null,
   "metadata": {},
   "outputs": [],
   "source": []
  }
 ],
 "metadata": {
  "kernelspec": {
   "display_name": "Python 3",
   "language": "python",
   "name": "python3"
  },
  "language_info": {
   "codemirror_mode": {
    "name": "ipython",
    "version": 3
   },
   "file_extension": ".py",
   "mimetype": "text/x-python",
   "name": "python",
   "nbconvert_exporter": "python",
   "pygments_lexer": "ipython3",
   "version": "3.7.3"
  }
 },
 "nbformat": 4,
 "nbformat_minor": 4
}
